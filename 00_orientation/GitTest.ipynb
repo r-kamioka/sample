{
 "cells": [
  {
   "cell_type": "code",
   "execution_count": null,
   "id": "e3dc61fb",
   "metadata": {},
   "outputs": [],
   "source": [
    "print(\"コミットからプッシュまでを行おう！\")"
   ]
  }
 ],
 "metadata": {
  "language_info": {
   "name": "python"
  }
 },
 "nbformat": 4,
 "nbformat_minor": 5
}
